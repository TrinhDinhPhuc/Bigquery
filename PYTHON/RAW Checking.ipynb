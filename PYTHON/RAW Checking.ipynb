{
 "cells": [
  {
   "cell_type": "code",
   "execution_count": 31,
   "metadata": {},
   "outputs": [
    {
     "name": "stdout",
     "output_type": "stream",
     "text": [
      " Volume in drive C has no label.\n",
      " Volume Serial Number is 6C42-E479\n",
      "\n",
      " Directory of C:\\Users\\PhucCoi\\Documents\\PYTHON\n",
      "\n",
      "01/17/2019  02:21 PM    <DIR>          .\n",
      "01/17/2019  02:21 PM    <DIR>          ..\n",
      "01/17/2019  02:11 PM    <DIR>          .git\n",
      "01/17/2019  02:10 PM    <DIR>          .idea\n",
      "01/14/2019  09:38 AM    <DIR>          .ipynb_checkpoints\n",
      "01/15/2019  01:28 PM         1,000,571 AFFILIATE_Estimated_revenue_2019-01-11.txt\n",
      "01/15/2019  01:28 PM         6,861,865 AFFILIATE_Owner_basic_2019-01-11.txt\n",
      "01/15/2019  01:30 PM         1,453,065 AFF-TH_Estimated_revenue_2019-01-11.txt\n",
      "01/15/2019  01:30 PM         8,326,470 AFF-TH_Owner_basic_2019-01-11.txt\n",
      "01/14/2019  09:41 AM             5,843 Bulk_report.py\n",
      "01/09/2019  09:31 AM               417 client_secret_929791903032-hpdm8djidqd8o5nqg2gk66efau34ea6q.apps.googleusercontent.com.json\n",
      "01/17/2019  11:29 AM             5,840 create_reporting_job.py\n",
      "01/17/2019  09:38 AM            13,132 Daily_Report_Downloader.py\n",
      "01/17/2019  02:20 PM            29,246 Daily_Report_Full.py\n",
      "01/09/2019  04:02 PM             4,797 demo.py\n",
      "01/15/2019  01:27 PM        20,277,248 ENT_Estimated_revenue_2019-01-11.txt\n",
      "01/15/2019  01:23 PM       113,682,248 ENT_Owner_basic_2019-01-11.txt\n",
      "01/15/2019  01:29 PM         1,607,905 ENT-TH_Estimated_revenue_2019-01-11.txt\n",
      "01/15/2019  01:29 PM         9,497,979 ENT-TH_Owner_basic_2019-01-11.txt\n",
      "01/15/2019  01:12 PM         2,774,087 KIDS_Estimated_revenue_2019-01-11.txt\n",
      "01/15/2019  01:12 PM        18,523,587 KIDS_Owner_basic_2019-01-11.txt\n",
      "07/24/2018  05:40 PM               642 map-filter-reduce.py\n",
      "01/15/2019  01:11 PM        25,074,114 MUSIC_Estimated_revenue_2019-01-11.txt\n",
      "01/15/2019  01:09 PM       162,531,816 MUSIC_Owner_basic_2019-01-11.txt\n",
      "01/15/2019  01:28 PM           228,654 MUSIC-TH_Estimated_revenue_2019-01-11.txt\n",
      "01/15/2019  01:28 PM         1,865,837 MUSIC-TH_Owner_basic_2019-01-11.txt\n",
      "01/11/2019  06:03 PM               362 nhap.py\n",
      "01/14/2019  02:29 PM             2,322 pops-dab1c699446f.json\n",
      "01/16/2019  11:52 AM    <DIR>          Python_Scripts\n",
      "01/11/2019  04:44 PM       145,890,982 report.csv\n",
      "01/11/2019  01:28 PM             4,791 reportTypes.py\n",
      "01/11/2019  11:41 AM             1,421 retrieve daily.py\n",
      "01/17/2019  01:59 PM             8,688 retrieve_reports.py\n",
      "01/16/2019  11:52 AM    <DIR>          Scraping Google\n",
      "08/09/2018  11:31 AM               278 SWAP_a_b.py\n",
      "01/17/2019  02:06 PM               438 test_flow_oauth2.py\n",
      "01/16/2019  11:52 AM    <DIR>          Time_Series\n",
      "06/19/2018  08:59 AM           230,400 trend1.xls\n",
      "01/17/2019  11:24 AM            20,230 txt sep.ipynb\n",
      "01/16/2019  11:52 AM    <DIR>          VietAI\n",
      "01/14/2019  02:10 PM             4,739 yt_basic.py\n",
      "01/17/2019  02:11 PM       180,168,125 yt_report.txt\n",
      "01/17/2019  10:02 AM       260,138,600 yt_report_raw_AFF_TH.txt\n",
      "01/17/2019  10:59 AM       443,081,578 yt_report_raw_KIDS_11.txt\n",
      "01/17/2019  11:24 AM        79,324,117 yt_report_raw_KIDS_11.xlsx\n",
      "              36 File(s)  1,482,642,434 bytes\n",
      "               9 Dir(s)  244,133,429,248 bytes free\n"
     ]
    }
   ],
   "source": [
    "ls"
   ]
  },
  {
   "cell_type": "code",
   "execution_count": 32,
   "metadata": {},
   "outputs": [],
   "source": [
    "import pandas as pd"
   ]
  },
  {
   "cell_type": "code",
   "execution_count": 33,
   "metadata": {},
   "outputs": [
    {
     "name": "stdout",
     "output_type": "stream",
     "text": [
      "(1943869, 23)\n"
     ]
    },
    {
     "data": {
      "text/html": [
       "<div>\n",
       "<style scoped>\n",
       "    .dataframe tbody tr th:only-of-type {\n",
       "        vertical-align: middle;\n",
       "    }\n",
       "\n",
       "    .dataframe tbody tr th {\n",
       "        vertical-align: top;\n",
       "    }\n",
       "\n",
       "    .dataframe thead th {\n",
       "        text-align: right;\n",
       "    }\n",
       "</style>\n",
       "<table border=\"1\" class=\"dataframe\">\n",
       "  <thead>\n",
       "    <tr style=\"text-align: right;\">\n",
       "      <th></th>\n",
       "      <th>adjustment_type</th>\n",
       "      <th>date</th>\n",
       "      <th>country_code</th>\n",
       "      <th>video_id</th>\n",
       "      <th>video_title</th>\n",
       "      <th>video_duration_sec</th>\n",
       "      <th>category</th>\n",
       "      <th>channel_id</th>\n",
       "      <th>uploader</th>\n",
       "      <th>channel_display_name</th>\n",
       "      <th>...</th>\n",
       "      <th>youtube_revenue_split_auction</th>\n",
       "      <th>youtube_revenue_split_reserved</th>\n",
       "      <th>youtube_revenue_split_partner_sold_youtube_served</th>\n",
       "      <th>youtube_revenue_split_partner_sold_partner_served</th>\n",
       "      <th>youtube_revenue_split</th>\n",
       "      <th>partner_revenue_auction</th>\n",
       "      <th>partner_revenue_reserved</th>\n",
       "      <th>partner_revenue_partner_sold_youtube_served</th>\n",
       "      <th>partner_revenue_partner_sold_partner_served</th>\n",
       "      <th>partner_revenue</th>\n",
       "    </tr>\n",
       "  </thead>\n",
       "  <tbody>\n",
       "    <tr>\n",
       "      <th>0</th>\n",
       "      <td>None</td>\n",
       "      <td>20181101</td>\n",
       "      <td>VN</td>\n",
       "      <td>--NxTHqaKHU</td>\n",
       "      <td>‘Proud Of You’ phiên bản Việt gây sốt qua tiến...</td>\n",
       "      <td>177</td>\n",
       "      <td>music</td>\n",
       "      <td>UCIoVmIUMCIGGJQw66EMtSrA</td>\n",
       "      <td>NaN</td>\n",
       "      <td>Sen Vang Kids</td>\n",
       "      <td>...</td>\n",
       "      <td>0.055986</td>\n",
       "      <td>0.0</td>\n",
       "      <td>0</td>\n",
       "      <td>0</td>\n",
       "      <td>0.055986</td>\n",
       "      <td>0.030799</td>\n",
       "      <td>0.0</td>\n",
       "      <td>0</td>\n",
       "      <td>0</td>\n",
       "      <td>0.030799</td>\n",
       "    </tr>\n",
       "    <tr>\n",
       "      <th>1</th>\n",
       "      <td>None</td>\n",
       "      <td>20181102</td>\n",
       "      <td>TH</td>\n",
       "      <td>--NxTHqaKHU</td>\n",
       "      <td>‘Proud Of You’ phiên bản Việt gây sốt qua tiến...</td>\n",
       "      <td>177</td>\n",
       "      <td>music</td>\n",
       "      <td>UCIoVmIUMCIGGJQw66EMtSrA</td>\n",
       "      <td>NaN</td>\n",
       "      <td>Sen Vang Kids</td>\n",
       "      <td>...</td>\n",
       "      <td>0.000000</td>\n",
       "      <td>0.0</td>\n",
       "      <td>0</td>\n",
       "      <td>0</td>\n",
       "      <td>0.000000</td>\n",
       "      <td>0.000000</td>\n",
       "      <td>0.0</td>\n",
       "      <td>0</td>\n",
       "      <td>0</td>\n",
       "      <td>0.000000</td>\n",
       "    </tr>\n",
       "    <tr>\n",
       "      <th>2</th>\n",
       "      <td>None</td>\n",
       "      <td>20181102</td>\n",
       "      <td>TW</td>\n",
       "      <td>--NxTHqaKHU</td>\n",
       "      <td>‘Proud Of You’ phiên bản Việt gây sốt qua tiến...</td>\n",
       "      <td>177</td>\n",
       "      <td>music</td>\n",
       "      <td>UCIoVmIUMCIGGJQw66EMtSrA</td>\n",
       "      <td>NaN</td>\n",
       "      <td>Sen Vang Kids</td>\n",
       "      <td>...</td>\n",
       "      <td>0.000000</td>\n",
       "      <td>0.0</td>\n",
       "      <td>0</td>\n",
       "      <td>0</td>\n",
       "      <td>0.000000</td>\n",
       "      <td>0.000000</td>\n",
       "      <td>0.0</td>\n",
       "      <td>0</td>\n",
       "      <td>0</td>\n",
       "      <td>0.000000</td>\n",
       "    </tr>\n",
       "    <tr>\n",
       "      <th>3</th>\n",
       "      <td>None</td>\n",
       "      <td>20181102</td>\n",
       "      <td>VN</td>\n",
       "      <td>--NxTHqaKHU</td>\n",
       "      <td>‘Proud Of You’ phiên bản Việt gây sốt qua tiến...</td>\n",
       "      <td>177</td>\n",
       "      <td>music</td>\n",
       "      <td>UCIoVmIUMCIGGJQw66EMtSrA</td>\n",
       "      <td>NaN</td>\n",
       "      <td>Sen Vang Kids</td>\n",
       "      <td>...</td>\n",
       "      <td>0.026004</td>\n",
       "      <td>0.0</td>\n",
       "      <td>0</td>\n",
       "      <td>0</td>\n",
       "      <td>0.026004</td>\n",
       "      <td>0.014310</td>\n",
       "      <td>0.0</td>\n",
       "      <td>0</td>\n",
       "      <td>0</td>\n",
       "      <td>0.014310</td>\n",
       "    </tr>\n",
       "    <tr>\n",
       "      <th>4</th>\n",
       "      <td>None</td>\n",
       "      <td>20181103</td>\n",
       "      <td>HK</td>\n",
       "      <td>--NxTHqaKHU</td>\n",
       "      <td>‘Proud Of You’ phiên bản Việt gây sốt qua tiến...</td>\n",
       "      <td>177</td>\n",
       "      <td>music</td>\n",
       "      <td>UCIoVmIUMCIGGJQw66EMtSrA</td>\n",
       "      <td>NaN</td>\n",
       "      <td>Sen Vang Kids</td>\n",
       "      <td>...</td>\n",
       "      <td>0.000000</td>\n",
       "      <td>0.0</td>\n",
       "      <td>0</td>\n",
       "      <td>0</td>\n",
       "      <td>0.000000</td>\n",
       "      <td>0.000000</td>\n",
       "      <td>0.0</td>\n",
       "      <td>0</td>\n",
       "      <td>0</td>\n",
       "      <td>0.000000</td>\n",
       "    </tr>\n",
       "  </tbody>\n",
       "</table>\n",
       "<p>5 rows × 23 columns</p>\n",
       "</div>"
      ],
      "text/plain": [
       "  adjustment_type      date country_code     video_id  \\\n",
       "0            None  20181101           VN  --NxTHqaKHU   \n",
       "1            None  20181102           TH  --NxTHqaKHU   \n",
       "2            None  20181102           TW  --NxTHqaKHU   \n",
       "3            None  20181102           VN  --NxTHqaKHU   \n",
       "4            None  20181103           HK  --NxTHqaKHU   \n",
       "\n",
       "                                         video_title  video_duration_sec  \\\n",
       "0  ‘Proud Of You’ phiên bản Việt gây sốt qua tiến...                 177   \n",
       "1  ‘Proud Of You’ phiên bản Việt gây sốt qua tiến...                 177   \n",
       "2  ‘Proud Of You’ phiên bản Việt gây sốt qua tiến...                 177   \n",
       "3  ‘Proud Of You’ phiên bản Việt gây sốt qua tiến...                 177   \n",
       "4  ‘Proud Of You’ phiên bản Việt gây sốt qua tiến...                 177   \n",
       "\n",
       "  category                channel_id uploader channel_display_name  \\\n",
       "0    music  UCIoVmIUMCIGGJQw66EMtSrA      NaN        Sen Vang Kids   \n",
       "1    music  UCIoVmIUMCIGGJQw66EMtSrA      NaN        Sen Vang Kids   \n",
       "2    music  UCIoVmIUMCIGGJQw66EMtSrA      NaN        Sen Vang Kids   \n",
       "3    music  UCIoVmIUMCIGGJQw66EMtSrA      NaN        Sen Vang Kids   \n",
       "4    music  UCIoVmIUMCIGGJQw66EMtSrA      NaN        Sen Vang Kids   \n",
       "\n",
       "        ...        youtube_revenue_split_auction  \\\n",
       "0       ...                             0.055986   \n",
       "1       ...                             0.000000   \n",
       "2       ...                             0.000000   \n",
       "3       ...                             0.026004   \n",
       "4       ...                             0.000000   \n",
       "\n",
       "  youtube_revenue_split_reserved  \\\n",
       "0                            0.0   \n",
       "1                            0.0   \n",
       "2                            0.0   \n",
       "3                            0.0   \n",
       "4                            0.0   \n",
       "\n",
       "   youtube_revenue_split_partner_sold_youtube_served  \\\n",
       "0                                                  0   \n",
       "1                                                  0   \n",
       "2                                                  0   \n",
       "3                                                  0   \n",
       "4                                                  0   \n",
       "\n",
       "   youtube_revenue_split_partner_sold_partner_served  youtube_revenue_split  \\\n",
       "0                                                  0               0.055986   \n",
       "1                                                  0               0.000000   \n",
       "2                                                  0               0.000000   \n",
       "3                                                  0               0.026004   \n",
       "4                                                  0               0.000000   \n",
       "\n",
       "   partner_revenue_auction  partner_revenue_reserved  \\\n",
       "0                 0.030799                       0.0   \n",
       "1                 0.000000                       0.0   \n",
       "2                 0.000000                       0.0   \n",
       "3                 0.014310                       0.0   \n",
       "4                 0.000000                       0.0   \n",
       "\n",
       "   partner_revenue_partner_sold_youtube_served  \\\n",
       "0                                            0   \n",
       "1                                            0   \n",
       "2                                            0   \n",
       "3                                            0   \n",
       "4                                            0   \n",
       "\n",
       "   partner_revenue_partner_sold_partner_served  partner_revenue  \n",
       "0                                            0         0.030799  \n",
       "1                                            0         0.000000  \n",
       "2                                            0         0.000000  \n",
       "3                                            0         0.014310  \n",
       "4                                            0         0.000000  \n",
       "\n",
       "[5 rows x 23 columns]"
      ]
     },
     "execution_count": 33,
     "metadata": {},
     "output_type": "execute_result"
    }
   ],
   "source": [
    "data = pd.read_table(\"yt_report_raw_KIDS_11.txt\",sep=\",\")\n",
    "print(data.shape)\n",
    "data.head()"
   ]
  },
  {
   "cell_type": "code",
   "execution_count": 39,
   "metadata": {},
   "outputs": [
    {
     "data": {
      "text/plain": [
       "30759"
      ]
     },
     "execution_count": 39,
     "metadata": {},
     "output_type": "execute_result"
    }
   ],
   "source": [
    "len(data.video_id.unique())"
   ]
  },
  {
   "cell_type": "code",
   "execution_count": 40,
   "metadata": {},
   "outputs": [
    {
     "data": {
      "text/plain": [
       "3639"
      ]
     },
     "execution_count": 40,
     "metadata": {},
     "output_type": "execute_result"
    }
   ],
   "source": [
    "len(data.channel_id.unique())"
   ]
  },
  {
   "cell_type": "code",
   "execution_count": 34,
   "metadata": {},
   "outputs": [
    {
     "data": {
      "text/plain": [
       "200639.73310499996"
      ]
     },
     "execution_count": 34,
     "metadata": {},
     "output_type": "execute_result"
    }
   ],
   "source": [
    "data.partner_revenue.sum()\n",
    "200639.73310499996\n",
    "200639.7331050001"
   ]
  },
  {
   "cell_type": "code",
   "execution_count": 35,
   "metadata": {},
   "outputs": [
    {
     "name": "stdout",
     "output_type": "stream",
     "text": [
      "adjustment_type -------- <class 'str'>\n",
      "date -------- <class 'numpy.int64'>\n",
      "country_code -------- <class 'str'>\n",
      "video_id -------- <class 'str'>\n",
      "video_title -------- <class 'str'>\n",
      "video_duration_sec -------- <class 'numpy.int64'>\n",
      "category -------- <class 'str'>\n",
      "channel_id -------- <class 'str'>\n",
      "uploader -------- <class 'float'>\n",
      "channel_display_name -------- <class 'str'>\n",
      "content_type -------- <class 'str'>\n",
      "policy -------- <class 'str'>\n",
      "owned_views -------- <class 'numpy.int64'>\n",
      "youtube_revenue_split_auction -------- <class 'numpy.float64'>\n",
      "youtube_revenue_split_reserved -------- <class 'numpy.float64'>\n",
      "youtube_revenue_split_partner_sold_youtube_served -------- <class 'numpy.int64'>\n",
      "youtube_revenue_split_partner_sold_partner_served -------- <class 'numpy.int64'>\n",
      "youtube_revenue_split -------- <class 'numpy.float64'>\n",
      "partner_revenue_auction -------- <class 'numpy.float64'>\n",
      "partner_revenue_reserved -------- <class 'numpy.float64'>\n",
      "partner_revenue_partner_sold_youtube_served -------- <class 'numpy.int64'>\n",
      "partner_revenue_partner_sold_partner_served -------- <class 'numpy.int64'>\n",
      "partner_revenue -------- <class 'numpy.float64'>\n"
     ]
    }
   ],
   "source": [
    "#TYPE\n",
    "print(data.columns[0],\"--------\",type(data[data.columns[0]][0]))\n",
    "print(data.columns[1],\"--------\",type(data[data.columns[1]][0]))\n",
    "print(data.columns[2],\"--------\",type(data[data.columns[2]][0]))\n",
    "print(data.columns[3],\"--------\",type(data[data.columns[3]][0]))\n",
    "print(data.columns[4],\"--------\",type(data[data.columns[4]][0]))\n",
    "print(data.columns[5],\"--------\",type(data[data.columns[5]][0]))\n",
    "print(data.columns[6],\"--------\",type(data[data.columns[6]][0]))\n",
    "print(data.columns[7],\"--------\",type(data[data.columns[7]][0]))\n",
    "print(data.columns[8],\"--------\",type(data[data.columns[8]][0]))\n",
    "print(data.columns[9],\"--------\",type(data[data.columns[9]][0]))\n",
    "print(data.columns[10],\"--------\",type(data[data.columns[10]][0]))\n",
    "print(data.columns[11],\"--------\",type(data[data.columns[11]][0]))\n",
    "print(data.columns[12],\"--------\",type(data[data.columns[12]][0]))\n",
    "print(data.columns[13],\"--------\",type(data[data.columns[13]][0]))\n",
    "print(data.columns[14],\"--------\",type(data[data.columns[14]][0]))\n",
    "print(data.columns[15],\"--------\",type(data[data.columns[15]][0]))\n",
    "print(data.columns[16],\"--------\",type(data[data.columns[16]][0]))\n",
    "print(data.columns[17],\"--------\",type(data[data.columns[17]][0]))\n",
    "print(data.columns[18],\"--------\",type(data[data.columns[18]][0]))\n",
    "print(data.columns[19],\"--------\",type(data[data.columns[19]][0]))\n",
    "print(data.columns[20],\"--------\",type(data[data.columns[20]][0]))\n",
    "print(data.columns[21],\"--------\",type(data[data.columns[21]][0]))\n",
    "print(data.columns[22],\"--------\",type(data[data.columns[22]][0]))\n"
   ]
  },
  {
   "cell_type": "code",
   "execution_count": 36,
   "metadata": {},
   "outputs": [
    {
     "data": {
      "text/plain": [
       "'‘Proud Of You’ phiên bản Việt gây sốt qua tiếng hát siêu nhí Vân Anh | Thử Tài Siêu Nhí Tập 7'"
      ]
     },
     "execution_count": 36,
     "metadata": {},
     "output_type": "execute_result"
    }
   ],
   "source": [
    "data[data.columns[4]][0]"
   ]
  },
  {
   "cell_type": "code",
   "execution_count": 37,
   "metadata": {},
   "outputs": [
    {
     "data": {
      "text/plain": [
       "Index(['adjustment_type', 'date', 'country_code', 'video_id', 'video_title',\n",
       "       'video_duration_sec', 'category', 'channel_id', 'uploader',\n",
       "       'channel_display_name', 'content_type', 'policy', 'owned_views',\n",
       "       'youtube_revenue_split_auction', 'youtube_revenue_split_reserved',\n",
       "       'youtube_revenue_split_partner_sold_youtube_served',\n",
       "       'youtube_revenue_split_partner_sold_partner_served',\n",
       "       'youtube_revenue_split', 'partner_revenue_auction',\n",
       "       'partner_revenue_reserved',\n",
       "       'partner_revenue_partner_sold_youtube_served',\n",
       "       'partner_revenue_partner_sold_partner_served', 'partner_revenue'],\n",
       "      dtype='object')"
      ]
     },
     "execution_count": 37,
     "metadata": {},
     "output_type": "execute_result"
    }
   ],
   "source": [
    "data.columns"
   ]
  },
  {
   "cell_type": "code",
   "execution_count": 30,
   "metadata": {},
   "outputs": [],
   "source": [
    "data.to_excel(\"yt_report_raw_MUSIC_11.xlsx\",index=False)"
   ]
  }
 ],
 "metadata": {
  "kernelspec": {
   "display_name": "Python 3",
   "language": "python",
   "name": "python3"
  },
  "language_info": {
   "codemirror_mode": {
    "name": "ipython",
    "version": 3
   },
   "file_extension": ".py",
   "mimetype": "text/x-python",
   "name": "python",
   "nbconvert_exporter": "python",
   "pygments_lexer": "ipython3",
   "version": "3.7.1"
  }
 },
 "nbformat": 4,
 "nbformat_minor": 2
}
